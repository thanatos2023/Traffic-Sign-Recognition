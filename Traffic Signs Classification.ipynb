{
 "cells": [
  {
   "cell_type": "code",
   "execution_count": 1,
   "metadata": {},
   "outputs": [],
   "source": [
    "import numpy as np\n",
    "import pandas as pd\n",
    "import matplotlib.pyplot as plt\n",
    "import tensorflow as tf\n",
    "from PIL import Image\n",
    "import os"
   ]
  },
  {
   "cell_type": "code",
   "execution_count": 3,
   "metadata": {},
   "outputs": [],
   "source": [
    "#preparing the data i.e retreaving the images and their labels from the data sets\n",
    "df = []\n",
    "labels =[]\n",
    "classes = 43\n",
    "cpath = os.getcwd()\n",
    "for i in range(classes):\n",
    "    path = os.path.join(cpath,'Train',str(i))\n",
    "    images = os.listdir(path)\n",
    "    \n",
    "    for a in images:\n",
    "        try:\n",
    "            image = Image.open(path + '\\\\' + a)\n",
    "            image = image.resize((30,30))\n",
    "            image = np.array(image)\n",
    "            df.append(image)\n",
    "            labels.append(i)\n",
    "        except: \n",
    "            print(\"Error Loading image\")\n",
    "    \n",
    "        \n",
    "data = np.array(df)\n",
    "labels = np.array(labels)\n",
    "    "
   ]
  },
  {
   "cell_type": "code",
   "execution_count": 4,
   "metadata": {},
   "outputs": [
    {
     "name": "stdout",
     "output_type": "stream",
     "text": [
      "(39209, 30, 30, 3) (39209,)\n"
     ]
    }
   ],
   "source": [
    "print(data.shape, labels.shape)"
   ]
  },
  {
   "cell_type": "code",
   "execution_count": 5,
   "metadata": {},
   "outputs": [
    {
     "name": "stdout",
     "output_type": "stream",
     "text": [
      "(31367, 30, 30, 3) (7842, 30, 30, 3) (31367,) (7842,)\n"
     ]
    }
   ],
   "source": [
    "from sklearn.model_selection import train_test_split\n",
    "X_train, X_test, y_train, y_test = train_test_split(data, labels, test_size=0.2, random_state=42)\n",
    "print(X_train.shape, X_test.shape, y_train.shape, y_test.shape)"
   ]
  },
  {
   "cell_type": "code",
   "execution_count": 16,
   "metadata": {},
   "outputs": [
    {
     "data": {
      "text/plain": [
       "<matplotlib.image.AxesImage at 0x2d8f668c760>"
      ]
     },
     "execution_count": 16,
     "metadata": {},
     "output_type": "execute_result"
    },
    {
     "data": {
      "image/png": "[encoded data removed]",
      "text/plain": [
       "<Figure size 432x288 with 1 Axes>"
      ]
     },
     "metadata": {
      "needs_background": "light"
     },
     "output_type": "display_data"
    }
   ],
   "source": [
    "plt.imshow(X_train[0])"
   ]
  },
  {
   "cell_type": "code",
   "execution_count": 18,
   "metadata": {},
   "outputs": [],
   "source": [
    "#one hot encoding the variables\n",
    "from tensorflow.keras.utils import to_categorical\n",
    "y_train = to_categorical(y_train,43)\n",
    "y_test = to_categorical(y_test,43)"
   ]
  },
  {
   "cell_type": "code",
   "execution_count": 21,
   "metadata": {},
   "outputs": [],
   "source": [
    "from tensorflow.keras.models import Sequential\n",
    "from tensorflow.keras.layers import Dense, Conv2D, MaxPool2D, Flatten, Dropout"
   ]
  },
  {
   "cell_type": "code",
   "execution_count": 22,
   "metadata": {},
   "outputs": [],
   "source": [
    "model = Sequential()\n",
    "model.add(Conv2D(filters=32, kernel_size=(5,5), activation='relu', input_shape=X_train.shape[1:]))\n",
    "model.add(Conv2D(filters=32, kernel_size=(5,5), activation='relu'))\n",
    "model.add(MaxPool2D(pool_size=(2, 2)))\n",
    "model.add(Dropout(rate=0.25))\n",
    "model.add(Conv2D(filters=64, kernel_size=(3, 3), activation='relu'))\n",
    "model.add(Conv2D(filters=64, kernel_size=(3, 3), activation='relu'))\n",
    "model.add(MaxPool2D(pool_size=(2, 2)))\n",
    "model.add(Dropout(rate=0.25))\n",
    "model.add(Flatten())\n",
    "model.add(Dense(256, activation='relu'))\n",
    "model.add(Dropout(rate=0.5))\n",
    "model.add(Dense(43, activation='softmax'))"
   ]
  },
  {
   "cell_type": "code",
   "execution_count": 23,
   "metadata": {},
   "outputs": [
    {
     "name": "stdout",
     "output_type": "stream",
     "text": [
      "Epoch 1/15\n",
      "981/981 [==============================] - 77s 77ms/step - loss: 1.9066 - accuracy: 0.5246 - val_loss: 0.4394 - val_accuracy: 0.8896\n",
      "Epoch 2/15\n",
      "981/981 [==============================] - 81s 82ms/step - loss: 0.6721 - accuracy: 0.8032 - val_loss: 0.2775 - val_accuracy: 0.9313\n",
      "Epoch 3/15\n",
      "981/981 [==============================] - 91s 93ms/step - loss: 0.4684 - accuracy: 0.8620 - val_loss: 0.1238 - val_accuracy: 0.9635\n",
      "Epoch 4/15\n",
      "981/981 [==============================] - 78s 80ms/step - loss: 0.3796 - accuracy: 0.8872 - val_loss: 0.1426 - val_accuracy: 0.9577\n",
      "Epoch 5/15\n",
      "981/981 [==============================] - 76s 77ms/step - loss: 0.3368 - accuracy: 0.9020 - val_loss: 0.1189 - val_accuracy: 0.9640\n",
      "Epoch 6/15\n",
      "981/981 [==============================] - 76s 77ms/step - loss: 0.3346 - accuracy: 0.9027 - val_loss: 0.0958 - val_accuracy: 0.9712\n",
      "Epoch 7/15\n",
      "981/981 [==============================] - 73s 74ms/step - loss: 0.2957 - accuracy: 0.9159 - val_loss: 0.0857 - val_accuracy: 0.9751\n",
      "Epoch 8/15\n",
      "981/981 [==============================] - 73s 75ms/step - loss: 0.2813 - accuracy: 0.9193 - val_loss: 0.0846 - val_accuracy: 0.9756\n",
      "Epoch 9/15\n",
      "981/981 [==============================] - 77s 79ms/step - loss: 0.2545 - accuracy: 0.9251 - val_loss: 0.0714 - val_accuracy: 0.9810\n",
      "Epoch 10/15\n",
      "981/981 [==============================] - 77s 78ms/step - loss: 0.2501 - accuracy: 0.9298 - val_loss: 0.0647 - val_accuracy: 0.9804\n",
      "Epoch 11/15\n",
      "981/981 [==============================] - 78s 79ms/step - loss: 0.2483 - accuracy: 0.9287 - val_loss: 0.0616 - val_accuracy: 0.9830\n",
      "Epoch 12/15\n",
      "981/981 [==============================] - 77s 78ms/step - loss: 0.2468 - accuracy: 0.9295 - val_loss: 0.0615 - val_accuracy: 0.9842\n",
      "Epoch 13/15\n",
      "981/981 [==============================] - 82s 84ms/step - loss: 0.2400 - accuracy: 0.9338 - val_loss: 0.0584 - val_accuracy: 0.9833\n",
      "Epoch 14/15\n",
      "981/981 [==============================] - 77s 79ms/step - loss: 0.2333 - accuracy: 0.9356 - val_loss: 0.0707 - val_accuracy: 0.9802\n",
      "Epoch 15/15\n",
      "981/981 [==============================] - 81s 83ms/step - loss: 0.2327 - accuracy: 0.9340 - val_loss: 0.0564 - val_accuracy: 0.9843\n"
     ]
    }
   ],
   "source": [
    "model.compile(loss='categorical_crossentropy', optimizer='adam', metrics=['accuracy'])\n",
    "epochs = 15\n",
    "history = model.fit(X_train, y_train, batch_size=32, epochs=epochs, validation_data=(X_test, y_test))"
   ]
  },
  {
   "cell_type": "code",
   "execution_count": 24,
   "metadata": {},
   "outputs": [],
   "source": [
    "model.save(\"my_model.h5\")"
   ]
  },
  {
   "cell_type": "code",
   "execution_count": 25,
   "metadata": {},
   "outputs": [
    {
     "data": {
      "image/png": "[encoded data removed]",
      "text/plain": [
       "<Figure size 432x288 with 1 Axes>"
      ]
     },
     "metadata": {
      "needs_background": "light"
     },
     "output_type": "display_data"
    },
    {
     "data": {
      "image/png": "[encoded data removed]",
      "text/plain": [
       "<Figure size 432x288 with 1 Axes>"
      ]
     },
     "metadata": {
      "needs_background": "light"
     },
     "output_type": "display_data"
    }
   ],
   "source": [
    "plt.figure(0)\n",
    "plt.plot(history.history['accuracy'], label='training accuracy')\n",
    "plt.plot(history.history['val_accuracy'], label='val accuracy')\n",
    "plt.title('Accuracy')\n",
    "plt.xlabel('epochs')\n",
    "plt.ylabel('accuracy')\n",
    "plt.legend()\n",
    "plt.show()\n",
    "\n",
    "\n",
    "plt.figure(1)\n",
    "plt.plot(history.history['loss'], label='training loss')\n",
    "plt.plot(history.history['val_loss'], label='val loss')\n",
    "plt.title('Loss')\n",
    "plt.xlabel('epochs')\n",
    "plt.ylabel('loss')\n",
    "plt.legend()\n",
    "plt.show()\n"
   ]
  },
  {
   "cell_type": "markdown",
   "metadata": {},
   "source": [
    "Our dataset contains a test folder and in a test.csv file, we have the details related to the image path and their respective class labels. We extract the image path and labels using pandas. Then to predict the model, we have to resize our images to 30×30 pixels and make a numpy array containing all image data."
   ]
  },
  {
   "cell_type": "code",
   "execution_count": 26,
   "metadata": {},
   "outputs": [],
   "source": [
    "from sklearn.metrics import accuracy_score\n",
    "y_test = pd.read_csv('test.csv')\n",
    "labels = y_test[\"ClassId\"].values\n",
    "imgs = y_test[\"Path\"].values\n",
    "data=[]\n",
    "for img in imgs:\n",
    "    image = Image.open(img)\n",
    "    image = image.resize((30,30))\n",
    "    data.append(np.array(image))\n",
    "X_test=np.array(data)"
   ]
  },
  {
   "cell_type": "code",
   "execution_count": 28,
   "metadata": {},
   "outputs": [],
   "source": [
    "pred = np.argmax(model.predict(X_test),axis=-1)"
   ]
  },
  {
   "cell_type": "code",
   "execution_count": 32,
   "metadata": {},
   "outputs": [],
   "source": [
    "from sklearn.metrics import classification_report, confusion_matrix, accuracy_score"
   ]
  },
  {
   "cell_type": "code",
   "execution_count": 33,
   "metadata": {},
   "outputs": [
    {
     "name": "stdout",
     "output_type": "stream",
     "text": [
      "              precision    recall  f1-score   support\n",
      "\n",
      "           0       0.98      0.90      0.94        60\n",
      "           1       0.94      0.98      0.96       720\n",
      "           2       0.94      0.98      0.96       750\n",
      "           3       0.95      0.96      0.95       450\n",
      "           4       0.98      0.95      0.96       660\n",
      "           5       0.93      0.92      0.92       630\n",
      "           6       0.97      0.83      0.90       150\n",
      "           7       0.98      0.95      0.97       450\n",
      "           8       0.94      0.96      0.95       450\n",
      "           9       0.92      0.94      0.93       480\n",
      "          10       0.94      0.97      0.96       660\n",
      "          11       0.94      0.96      0.95       420\n",
      "          12       0.98      0.96      0.97       690\n",
      "          13       0.97      0.99      0.98       720\n",
      "          14       1.00      0.99      1.00       270\n",
      "          15       0.96      0.93      0.95       210\n",
      "          16       0.96      0.99      0.97       150\n",
      "          17       1.00      0.98      0.99       360\n",
      "          18       0.91      0.86      0.89       390\n",
      "          19       0.96      0.75      0.84        60\n",
      "          20       0.76      1.00      0.86        90\n",
      "          21       0.89      0.64      0.75        90\n",
      "          22       0.99      0.88      0.93       120\n",
      "          23       0.84      1.00      0.91       150\n",
      "          24       0.81      0.89      0.85        90\n",
      "          25       0.94      0.95      0.94       480\n",
      "          26       0.91      0.81      0.86       180\n",
      "          27       0.61      0.58      0.60        60\n",
      "          28       0.99      0.83      0.91       150\n",
      "          29       0.93      0.88      0.90        90\n",
      "          30       0.75      0.81      0.78       150\n",
      "          31       0.96      0.98      0.97       270\n",
      "          32       0.96      0.87      0.91        60\n",
      "          33       0.95      1.00      0.97       210\n",
      "          34       0.94      0.99      0.96       120\n",
      "          35       0.98      0.99      0.98       390\n",
      "          36       0.97      0.95      0.96       120\n",
      "          37       0.98      1.00      0.99        60\n",
      "          38       0.98      0.97      0.97       690\n",
      "          39       0.90      0.90      0.90        90\n",
      "          40       0.88      0.97      0.92        90\n",
      "          41       0.97      0.48      0.64        60\n",
      "          42       0.91      0.93      0.92        90\n",
      "\n",
      "    accuracy                           0.94     12630\n",
      "   macro avg       0.93      0.91      0.91     12630\n",
      "weighted avg       0.95      0.94      0.94     12630\n",
      "\n"
     ]
    }
   ],
   "source": [
    "print(classification_report(labels,pred))"
   ]
  },
  {
   "cell_type": "code",
   "execution_count": 35,
   "metadata": {},
   "outputs": [
    {
     "data": {
      "text/plain": [
       "array([[ 54,   1,   0, ...,   0,   0,   0],\n",
       "       [  0, 706,   3, ...,   0,   0,   0],\n",
       "       [  0,   2, 733, ...,   0,   0,   0],\n",
       "       ...,\n",
       "       [  0,   0,   0, ...,  87,   0,   0],\n",
       "       [  0,   0,   0, ...,   0,  29,   0],\n",
       "       [  0,   0,   0, ...,   0,   0,  84]], dtype=int64)"
      ]
     },
     "execution_count": 35,
     "metadata": {},
     "output_type": "execute_result"
    }
   ],
   "source": [
    "(confusion_matrix(labels,pred))"
   ]
  },
  {
   "cell_type": "code",
   "execution_count": 36,
   "metadata": {},
   "outputs": [
    {
     "name": "stdout",
     "output_type": "stream",
     "text": [
      "94.4972288202692\n"
     ]
    }
   ],
   "source": [
    "print(accuracy_score(labels,pred)*100)"
   ]
  },
  {
   "cell_type": "code",
   "execution_count": null,
   "metadata": {},
   "outputs": [],
   "source": []
  }
 ],
 "metadata": {
  "kernelspec": {
   "display_name": "Python 3",
   "language": "python",
   "name": "python3"
  },
  "language_info": {
   "codemirror_mode": {
    "name": "ipython",
    "version": 3
   },
   "file_extension": ".py",
   "mimetype": "text/x-python",
   "name": "python",
   "nbconvert_exporter": "python",
   "pygments_lexer": "ipython3",
   "version": "3.8.5"
  }
 },
 "nbformat": 4,
 "nbformat_minor": 4
}
